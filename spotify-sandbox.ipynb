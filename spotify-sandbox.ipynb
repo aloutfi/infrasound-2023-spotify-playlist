{
 "cells": [
  {
   "cell_type": "code",
   "execution_count": 1,
   "id": "e83d0e16-ed82-4895-92d5-e89f56587c2a",
   "metadata": {},
   "outputs": [],
   "source": [
    "import pandas as pd\n",
    "import requests\n",
    "from collections import Counter\n",
    "import json\n",
    "\n",
    "CLIENT_ID = \"\"\n",
    "CLIENT_SECRET = \"\"\n",
    "\n",
    "SPOTIFY_USER_ID = \"\""
   ]
  },
  {
   "cell_type": "markdown",
   "id": "cc2b2075-3278-4837-839b-6b97dbc96895",
   "metadata": {},
   "source": [
    "# Get a bearer token. It expires after 1 hour"
   ]
  },
  {
   "cell_type": "code",
   "execution_count": 2,
   "id": "fe99fcbf-ca75-4ac4-b0a6-5e308ae4b38c",
   "metadata": {
    "tags": []
   },
   "outputs": [],
   "source": [
    "auth_url = \"https://accounts.spotify.com/api/token\"\n",
    "auth_params = {\"grant_type\": \"client_credentials\"}\n",
    "\n",
    "response = requests.post(auth_url, auth=(CLIENT_ID, CLIENT_SECRET), data=auth_params)\n",
    "\n",
    "response_data = response.json()\n",
    "ACCESS_TOKEN = response_data[\"access_token\"]"
   ]
  },
  {
   "cell_type": "code",
   "execution_count": 3,
   "id": "a0f23524-3046-40c7-b09a-8a5352395c04",
   "metadata": {
    "scrolled": true,
    "tags": []
   },
   "outputs": [],
   "source": [
    "# Copied text via MacOS finder character recognition\n",
    "\n",
    "with open(\"data/raw_artists.txt\", \"r\") as file:\n",
    "    data = file.read()\n",
    "\n",
    "infrasound_lineup = [\n",
    "    artist.rstrip()\n",
    "    for artist in data.split(\"\\n\")\n",
    "    if artist  # Remove trailing blank line\n",
    "]"
   ]
  },
  {
   "cell_type": "code",
   "execution_count": 4,
   "id": "bf8bf5d8-5712-43bb-b668-3c3f600a99b0",
   "metadata": {
    "tags": []
   },
   "outputs": [],
   "source": [
    "def artist_searches(raw_artist_name):\n",
    "    \"\"\"\n",
    "    Call Spotify's api given the raw artist name.\n",
    "\n",
    "    Return the first record where raw_artist_name matches what spotify gives.\n",
    "    That artist record will contain the most tags.\n",
    "\n",
    "    Otherwise, return all artist records.\n",
    "\n",
    "    \"\"\"\n",
    "    artist_records = {}\n",
    "    url = f\"https://api.spotify.com/v1/search?q={raw_artist_name}&type=artist\"\n",
    "    headers = {\"Authorization\": f\"Bearer {ACCESS_TOKEN}\"}\n",
    "\n",
    "    response = requests.get(url, headers=headers)\n",
    "    data = response.json()\n",
    "    for record in data[\"artists\"][\"items\"]:\n",
    "        artist = {\n",
    "            \"name\": record[\"name\"],\n",
    "            \"raw_name\": raw_artist_name,\n",
    "            \"id\": record[\"id\"],\n",
    "            \"genres\": record[\"genres\"],\n",
    "        }\n",
    "\n",
    "        if artist[\"name\"].lower() == artist[\"raw_name\"].lower():\n",
    "            return {artist[\"raw_name\"].lower(): artist}\n",
    "\n",
    "        artist_records[record[\"name\"].lower()] = artist\n",
    "    return artist_records"
   ]
  },
  {
   "cell_type": "code",
   "execution_count": 5,
   "id": "547130ed-4f9d-4501-864e-27484fcf7ab2",
   "metadata": {
    "tags": []
   },
   "outputs": [
    {
     "name": "stdout",
     "output_type": "stream",
     "text": [
      "Completed with len(non_match_records)=4\n"
     ]
    },
    {
     "data": {
      "text/html": [
       "<div>\n",
       "<style scoped>\n",
       "    .dataframe tbody tr th:only-of-type {\n",
       "        vertical-align: middle;\n",
       "    }\n",
       "\n",
       "    .dataframe tbody tr th {\n",
       "        vertical-align: top;\n",
       "    }\n",
       "\n",
       "    .dataframe thead th {\n",
       "        text-align: right;\n",
       "    }\n",
       "</style>\n",
       "<table border=\"1\" class=\"dataframe\">\n",
       "  <thead>\n",
       "    <tr style=\"text-align: right;\">\n",
       "      <th></th>\n",
       "      <th>name</th>\n",
       "      <th>raw_name</th>\n",
       "      <th>id</th>\n",
       "      <th>genres</th>\n",
       "    </tr>\n",
       "  </thead>\n",
       "  <tbody>\n",
       "    <tr>\n",
       "      <th>0</th>\n",
       "      <td>Abstrakt Sonance</td>\n",
       "      <td>ABSTRAKT SONANCE</td>\n",
       "      <td>00qKBesewdWy5l0bpMdosp</td>\n",
       "      <td>[deep dubstep, experimental bass]</td>\n",
       "    </tr>\n",
       "    <tr>\n",
       "      <th>1</th>\n",
       "      <td>AES DANA</td>\n",
       "      <td>AES DANA</td>\n",
       "      <td>6n1fB5NgTsFNdT4JHpVMe1</td>\n",
       "      <td>[ambient psychill, ambient trance, psychill]</td>\n",
       "    </tr>\n",
       "    <tr>\n",
       "      <th>2</th>\n",
       "      <td>Alejo</td>\n",
       "      <td>ALEJO</td>\n",
       "      <td>50sIhX3HytFEwQXZJLUZQE</td>\n",
       "      <td>[reggaeton, trap latino, urbano latino]</td>\n",
       "    </tr>\n",
       "    <tr>\n",
       "      <th>3</th>\n",
       "      <td>American Grime</td>\n",
       "      <td>AMERICAN GRIME</td>\n",
       "      <td>3cyPRO15GSCgu9DlxtLJfR</td>\n",
       "      <td>[]</td>\n",
       "    </tr>\n",
       "    <tr>\n",
       "      <th>4</th>\n",
       "      <td>Anna Morgan</td>\n",
       "      <td>ANNA MORGAN</td>\n",
       "      <td>30X6dIzlcixPlRNNYesrA4</td>\n",
       "      <td>[]</td>\n",
       "    </tr>\n",
       "  </tbody>\n",
       "</table>\n",
       "</div>"
      ],
      "text/plain": [
       "               name          raw_name                      id   \n",
       "0  Abstrakt Sonance  ABSTRAKT SONANCE  00qKBesewdWy5l0bpMdosp  \\\n",
       "1          AES DANA          AES DANA  6n1fB5NgTsFNdT4JHpVMe1   \n",
       "2             Alejo             ALEJO  50sIhX3HytFEwQXZJLUZQE   \n",
       "3    American Grime    AMERICAN GRIME  3cyPRO15GSCgu9DlxtLJfR   \n",
       "4       Anna Morgan       ANNA MORGAN  30X6dIzlcixPlRNNYesrA4   \n",
       "\n",
       "                                         genres  \n",
       "0             [deep dubstep, experimental bass]  \n",
       "1  [ambient psychill, ambient trance, psychill]  \n",
       "2       [reggaeton, trap latino, urbano latino]  \n",
       "3                                            []  \n",
       "4                                            []  "
      ]
     },
     "execution_count": 5,
     "metadata": {},
     "output_type": "execute_result"
    }
   ],
   "source": [
    "artist_records = []\n",
    "non_match_records = {}\n",
    "for raw_artist_name in infrasound_lineup:\n",
    "    results = artist_searches(raw_artist_name)\n",
    "    if raw_artist_name.lower() in results:\n",
    "        # Exact Match\n",
    "        artist_records.append(results[raw_artist_name.lower()])\n",
    "    else:\n",
    "        # Just return the first record if nothing else\n",
    "        artist_records.append(list(results.values())[0])\n",
    "        non_match_records[raw_artist_name] = results.values()\n",
    "\n",
    "print(f\"Completed with {len(non_match_records)=}\")\n",
    "df = pd.DataFrame(artist_records)\n",
    "df.head()"
   ]
  },
  {
   "cell_type": "markdown",
   "id": "0271adbd-6f38-49e4-9826-37b2744b326e",
   "metadata": {},
   "source": [
    "# Anomaly/missing data analysis\n",
    "\n",
    "## Original non match records were 17\n",
    "'ABSTRAKT SONACE', 'AXJA', 'C-MON& KYPSKI (DJ SET)', 'CONFIDENTCHILL', 'DE-TU', 'DIEBYTHESWORD', 'D]MADD', 'GRLLSMTH', 'J.ADJODHA', 'KODEg', 'KYPSKI (DJ SET)', 'MR CARMACK', 'MUXMOOL', 'NAUTICAL DEVINE', \"SUMTHIN' SUMTHIN\", 'THE AUTONYM', 'THEWIDDLER'\n",
    "\n",
    "Modified raw txt for things like spacing and incorrect characters\n",
    "mis-spellings from lineup: Abstrakt Sonance, Nautical Divine\n",
    "\n",
    "\n",
    "## Finishing with 4 non matches: \n",
    "- 'AXJA': Only has 1 song on Spotify. Outlier to my \"first artist theory\"\n",
    "- 'CONFIDENTCHILL': Not on Spotify\n",
    "- 'GRLLSMTH', : KllSmth hasn't released under Grllsmth to my knowledge\n",
    "- 'THE AUTONYM' : Not on spotify"
   ]
  },
  {
   "cell_type": "markdown",
   "id": "41af699b-24b3-4c66-b599-1a19e24bb311",
   "metadata": {},
   "source": [
    "# Genre analysis\n",
    "\n",
    "## What are genres, can we eat them?"
   ]
  },
  {
   "cell_type": "code",
   "execution_count": 6,
   "id": "a0b08d0d-9edd-4367-8883-16cc7990847e",
   "metadata": {
    "tags": []
   },
   "outputs": [
    {
     "data": {
      "text/plain": [
       "[('glitch hop', 7),\n",
       " ('deep dubstep', 6),\n",
       " ('experimental bass', 6),\n",
       " ('downtempo bass', 6),\n",
       " ('classic dubstep', 5),\n",
       " ('wave', 4),\n",
       " ('psychill', 3),\n",
       " ('wonky', 3),\n",
       " ('ambient trance', 2),\n",
       " ('halftime dnb', 2)]"
      ]
     },
     "execution_count": 6,
     "metadata": {},
     "output_type": "execute_result"
    }
   ],
   "source": [
    "raw_genres = [element for sublist in df.genres for element in sublist]\n",
    "unique_genres = set(raw_genres)\n",
    "\n",
    "Counter(raw_genres).most_common(10)"
   ]
  },
  {
   "cell_type": "code",
   "execution_count": 7,
   "id": "4bdce205-8bb8-4f3f-9dbc-875749c78bb6",
   "metadata": {
    "tags": []
   },
   "outputs": [],
   "source": [
    "# Saved as a CSV so other folks can use it 🙂\n",
    "df.to_csv(\"data/infrasound_artists_and_spotify_data.csv\", index=False)"
   ]
  },
  {
   "cell_type": "markdown",
   "id": "e339ef4b-55bf-4dcb-8a2f-a4232d2b07c0",
   "metadata": {},
   "source": [
    "# Grab top 10 tracks per artist. Save in tuple consisting of track uri and name"
   ]
  },
  {
   "cell_type": "code",
   "execution_count": 8,
   "id": "bfaab5c7-1261-43db-8eba-999e889e2d9e",
   "metadata": {
    "tags": []
   },
   "outputs": [],
   "source": [
    "tracks = []\n",
    "\n",
    "for artist_id in df.id:\n",
    "    url = f\"https://api.spotify.com/v1/artists/{artist_id}/top-tracks?market=ES\"\n",
    "    headers = {\"Authorization\": f\"Bearer {ACCESS_TOKEN}\"}\n",
    "    response = requests.get(url, headers=headers)\n",
    "    tracks.extend(\n",
    "        [(track[\"uri\"], track[\"name\"]) for track in response.json()[\"tracks\"]]\n",
    "    )"
   ]
  },
  {
   "cell_type": "markdown",
   "id": "f53aee7a-b95c-4eec-b9ac-e8c5710ed6c4",
   "metadata": {},
   "source": [
    "# Create a playlist consisting of top 10 tracks for each artist"
   ]
  },
  {
   "cell_type": "code",
   "execution_count": 9,
   "id": "ae258854-5a57-458a-bfb7-316c7cec99e5",
   "metadata": {
    "tags": []
   },
   "outputs": [],
   "source": [
    "# Got too lazy to figure out scopes.\n",
    "# grabbed token from https://developer.spotify.com/ 🤦🏻‍♂️\n",
    "\n",
    "OTHER_ACCESS_TOKEN = \"\""
   ]
  },
  {
   "cell_type": "code",
   "execution_count": 10,
   "id": "c0591c61-9e8d-4a9f-b1bb-1570ecc739a8",
   "metadata": {},
   "outputs": [
    {
     "name": "stdout",
     "output_type": "stream",
     "text": [
      "1xCc4TruODjgZLRl2mR5Kz https://api.spotify.com/v1/playlists/1xCc4TruODjgZLRl2mR5Kz\n"
     ]
    }
   ],
   "source": [
    "url = f\"https://api.spotify.com/v1/users/{SPOTIFY_USER_ID}/playlists\"\n",
    "headers = {\n",
    "    \"Authorization\": f\"Bearer {OTHER_ACCESS_TOKEN}\",\n",
    "    \"Content-Type\": \"application/json\",\n",
    "}\n",
    "response = requests.post(\n",
    "    url,\n",
    "    headers=headers,\n",
    "    data=json.dumps(\n",
    "        {\n",
    "            \"name\": \"Infrasound 2023\",\n",
    "            \"description\": \"Made with love by Andrew Loutfi and ChatGPT via Spotify's Web API\",\n",
    "            \"public\": True,\n",
    "        }\n",
    "    ),\n",
    ")\n",
    "playlist_id = response.json()[\"id\"]\n",
    "href = response.json()[\"href\"]\n",
    "print(playlist_id, href)"
   ]
  },
  {
   "cell_type": "markdown",
   "id": "fff1d101-b8c4-4d39-b25d-be2dc9ce49e7",
   "metadata": {
    "tags": []
   },
   "source": [
    "# Add tracks to playlist. \n",
    "Spotify will only let you add a max of 100 tracks per call. segment accordingly."
   ]
  },
  {
   "cell_type": "code",
   "execution_count": 11,
   "id": "ddc2b7ad-0554-4738-8347-5d072bf2c113",
   "metadata": {
    "tags": []
   },
   "outputs": [
    {
     "name": "stdout",
     "output_type": "stream",
     "text": [
      "<Response [201]>\n",
      "<Response [201]>\n",
      "<Response [201]>\n",
      "<Response [201]>\n",
      "<Response [201]>\n",
      "<Response [201]>\n",
      "<Response [201]>\n",
      "<Response [201]>\n"
     ]
    }
   ],
   "source": [
    "segment_size = 100\n",
    "\n",
    "for i in range(0, len(tracks), segment_size):\n",
    "    smegment = tracks[i : i + segment_size]\n",
    "\n",
    "    url = f\"https://api.spotify.com/v1/playlists/{playlist_id}/tracks\"\n",
    "    add_songs = requests.post(\n",
    "        url,\n",
    "        headers=headers,\n",
    "        data=json.dumps({\"uris\": [track[0] for track in smegment]}),\n",
    "    )\n",
    "    print(add_songs)"
   ]
  },
  {
   "cell_type": "code",
   "execution_count": null,
   "id": "19afc923-783d-4e6b-8c75-106135a7ab29",
   "metadata": {},
   "outputs": [],
   "source": []
  }
 ],
 "metadata": {
  "kernelspec": {
   "display_name": "spotify-sandbox",
   "language": "python",
   "name": "spotify-sandbox"
  },
  "language_info": {
   "codemirror_mode": {
    "name": "ipython",
    "version": 3
   },
   "file_extension": ".py",
   "mimetype": "text/x-python",
   "name": "python",
   "nbconvert_exporter": "python",
   "pygments_lexer": "ipython3",
   "version": "3.10.6"
  }
 },
 "nbformat": 4,
 "nbformat_minor": 5
}
